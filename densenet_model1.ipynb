{
  "cells": [
    {
      "cell_type": "markdown",
      "metadata": {
        "id": "view-in-github",
        "colab_type": "text"
      },
      "source": [
        "<a href=\"https://colab.research.google.com/github/ankush170/Cousera-test.github.io/blob/master/densenet_model1.ipynb\" target=\"_parent\"><img src=\"https://colab.research.google.com/assets/colab-badge.svg\" alt=\"Open In Colab\"/></a>"
      ]
    },
    {
      "cell_type": "code",
      "execution_count": 1,
      "metadata": {
        "colab": {
          "base_uri": "https://localhost:8080/"
        },
        "id": "h0zUqcFJDOuZ",
        "outputId": "9fe74f22-7496-46ad-b071-6119f878cee6"
      },
      "outputs": [
        {
          "output_type": "stream",
          "name": "stdout",
          "text": [
            "Mounted at /content/drive\n"
          ]
        }
      ],
      "source": [
        "from google.colab import drive\n",
        "drive.mount(\"/content/drive\", force_remount=True)"
      ]
    },
    {
      "cell_type": "code",
      "execution_count": 2,
      "metadata": {
        "id": "4Eo4rWrfwU89"
      },
      "outputs": [],
      "source": [
        "import matplotlib.pyplot as plt\n",
        "import numpy as np\n",
        "import pandas as pd\n",
        "import tensorflow as tf\n",
        "from tensorflow.keras.utils import image_dataset_from_directory\n",
        "from tensorflow.keras.models import Sequential\n",
        "from tensorflow.keras import layers\n",
        "from tensorflow.keras.layers.experimental.preprocessing import RandomFlip,RandomRotation,RandomZoom,RandomContrast\n",
        "from tensorflow.keras.models import Sequential\n",
        "from tensorflow.keras.layers import Dense, GlobalAveragePooling2D, Dropout\n",
        "from tensorflow.keras.callbacks import EarlyStopping,ReduceLROnPlateau, ModelCheckpoint\n",
        "from tensorflow.keras.layers.experimental.preprocessing import Rescaling\n",
        "from tensorflow.keras.losses import BinaryCrossentropy\n",
        "from tensorflow.keras.optimizers import Adam\n",
        "from tensorflow.keras.utils import plot_model\n",
        "import math\n",
        "from tensorflow.keras.applications import DenseNet121\n",
        "from tensorflow.keras.applications.densenet import preprocess_input"
      ]
    },
    {
      "cell_type": "code",
      "execution_count": 3,
      "metadata": {
        "id": "dmIECR6m8iN_"
      },
      "outputs": [],
      "source": [
        "batch_size = 32\n",
        "img_height = 224\n",
        "img_width = 224\n",
        "\n",
        "epochs=30\n",
        "\n",
        "import os\n",
        "import pathlib\n",
        "data_dir = '/content/drive/MyDrive/dataset_unsorted'\n",
        "data_dir= pathlib.Path(data_dir)"
      ]
    },
    {
      "cell_type": "code",
      "execution_count": 4,
      "metadata": {
        "colab": {
          "base_uri": "https://localhost:8080/"
        },
        "id": "dFtCNAD4-tW_",
        "outputId": "34156a88-0af9-4dde-af3a-2500c22b9f9b"
      },
      "outputs": [
        {
          "output_type": "stream",
          "name": "stdout",
          "text": [
            "17180\n"
          ]
        }
      ],
      "source": [
        "image_count = len(list(data_dir.glob('*/*.jpg')))\n",
        "print(image_count)"
      ]
    },
    {
      "cell_type": "code",
      "execution_count": 5,
      "metadata": {
        "colab": {
          "base_uri": "https://localhost:8080/"
        },
        "id": "CpE1XJ3U_2Rh",
        "outputId": "4082ccbe-03de-4cf5-9b6c-3b9af24be7ae"
      },
      "outputs": [
        {
          "output_type": "stream",
          "name": "stdout",
          "text": [
            "Found 17180 files belonging to 31 classes.\n",
            "Using 13744 files for training.\n"
          ]
        }
      ],
      "source": [
        "train_ds = tf.keras.utils.image_dataset_from_directory(data_dir,\n",
        "                                                       shuffle = True,\n",
        "                                                       label_mode= \"int\",\n",
        "                                                       color_mode= 'rgb',\n",
        "                                                       labels= 'inferred',\n",
        "                                                       validation_split = 0.2,\n",
        "                                                       subset = 'training',\n",
        "                                                       seed = 123,\n",
        "                                                       image_size=(img_height, img_width),\n",
        "                                                       batch_size=batch_size)"
      ]
    },
    {
      "cell_type": "code",
      "execution_count": 6,
      "metadata": {
        "colab": {
          "base_uri": "https://localhost:8080/"
        },
        "id": "crYABUaJLbG-",
        "outputId": "9c158124-10ed-4779-880d-85927d35c5c1"
      },
      "outputs": [
        {
          "output_type": "stream",
          "name": "stdout",
          "text": [
            "Found 17180 files belonging to 31 classes.\n",
            "Using 3436 files for validation.\n"
          ]
        }
      ],
      "source": [
        "val_ds = tf.keras.utils.image_dataset_from_directory(data_dir,\n",
        "                                                     shuffle= True,\n",
        "                                                     validation_split=0.2,\n",
        "                                                     label_mode= \"int\",\n",
        "                                                     color_mode= 'rgb',\n",
        "                                                     labels= 'inferred',\n",
        "                                                     subset=\"validation\",\n",
        "                                                     seed=123,\n",
        "                                                     image_size=(img_height, img_width),\n",
        "                                                     batch_size=batch_size)"
      ]
    },
    {
      "cell_type": "code",
      "execution_count": 7,
      "metadata": {
        "colab": {
          "base_uri": "https://localhost:8080/"
        },
        "id": "ubxXWsBwL5Wc",
        "outputId": "dcd0b150-6c1c-46cd-f2db-7204c9b2306c"
      },
      "outputs": [
        {
          "output_type": "stream",
          "name": "stdout",
          "text": [
            "['Chilli - Fusorium Wilt', 'Chilli - Helicoverpa', 'Chilli - N Def', 'Chilli - Thrips', 'Groundnut - Alternaria', 'Groundnut - Healthy', 'Groundnut - LEAF HOPPER AND JASSIDS', 'Groundnut - Leaf Miner', 'Groundnut - Rust', 'Groundnut - Tobaco Caterpillaer', 'Groundnut - late and early leaf spot', 'Maize - Aphids', 'Maize - Ear Worm', 'Maize - Eye Spot', 'Maize - Healthy_V5', 'Maize - Magnesium', 'Maize - Nitrogen Deficiancy', 'Maize - Potassium', 'Maize - Southern Leaf Blight', 'Paddy - BLB', 'Paddy - Brown spot', 'Paddy - Grain discolaration', 'Paddy - Grasshoppers', 'Paddy - Leaf roller', 'Paddy - Phosphorous', 'Paddy - Potassium deficincy', 'Paddy - Rice hispa', 'Paddy - Stemborer', 'Paddy - Zinc', 'Sorghum - Anthracnose', 'Sorghum - Fall Army Worm']\n"
          ]
        }
      ],
      "source": [
        "class_names = train_ds.class_names\n",
        "print(class_names)"
      ]
    },
    {
      "cell_type": "code",
      "execution_count": 9,
      "metadata": {
        "id": "-CQS6GEsMJcR"
      },
      "outputs": [],
      "source": [
        "data_augmentation =Sequential( [\n",
        "    RandomFlip(\"horizontal_and_vertical\",\n",
        "                input_shape=(img_height,\n",
        "                             img_width,\n",
        "                             3)),\n",
        "                RandomRotation(0.2),\n",
        "                RandomContrast(0.1),\n",
        "                RandomZoom(0.2),\n",
        "                               ])"
      ]
    },
    {
      "cell_type": "code",
      "execution_count": 10,
      "metadata": {
        "colab": {
          "base_uri": "https://localhost:8080/"
        },
        "id": "NYJeqLrEM2Ln",
        "outputId": "157a5949-f229-4222-d954-28cce5a5ccad"
      },
      "outputs": [
        {
          "output_type": "stream",
          "name": "stdout",
          "text": [
            "Number of validation batches: 87\n",
            "Number of test batches: 21\n"
          ]
        }
      ],
      "source": [
        "val_batches = tf.data.experimental.cardinality(val_ds)\n",
        "test_dataset = val_ds.take(val_batches // 5)\n",
        "val_ds = val_ds.skip(val_batches // 5)\n",
        "print('Number of validation batches: %d' % tf.data.experimental.cardinality(val_ds))\n",
        "print('Number of test batches: %d' % tf.data.experimental.cardinality(test_dataset))"
      ]
    },
    {
      "cell_type": "code",
      "execution_count": 11,
      "metadata": {
        "id": "fWZuaCB2NMGI"
      },
      "outputs": [],
      "source": [
        "AUTOTUNE = tf.data.experimental.AUTOTUNE\n",
        "train_ds = train_ds.cache().shuffle(1000).prefetch(buffer_size=AUTOTUNE)\n",
        "val_ds = val_ds.cache().prefetch(buffer_size=AUTOTUNE)\n",
        "test_dataset = test_dataset.cache().shuffle(1000).prefetch(buffer_size =AUTOTUNE)\n",
        "\n",
        "\n",
        "normalization_layer=layers.Rescaling(1./255)"
      ]
    },
    {
      "cell_type": "code",
      "execution_count": null,
      "metadata": {
        "id": "t2LlFHyzNynt"
      },
      "outputs": [],
      "source": [
        "normalized_ds= train_ds.map(lambda x,y: (normalization_layer(x),(y)))\n",
        "image_batch,labels_batch = next(iter(normalized_ds))\n",
        "first_image= image_batch[0]\n",
        "print(np.min(first_image),np.max(first_image))"
      ]
    },
    {
      "cell_type": "code",
      "execution_count": null,
      "metadata": {
        "id": "Co_3lLFwODbQ"
      },
      "outputs": [],
      "source": [
        "num_classes = len(class_names)\n",
        "base_densenet121_model = Sequential([\n",
        "                                 data_augmentation,\n",
        "                        layers.Rescaling( scale=1./255),\n",
        "                        layers.Resizing(img_height, img_width),\n",
        "\n",
        "                        DenseNet121(input_shape=(img_height, img_width,3), weights=\"imagenet\", include_top=False)\n",
        "] , name = 'base_densenet121_model')\n",
        "\n",
        "base_densenet121_model.trainable = False\n",
        "base_densenet121_model.summary()\n",
        "\n",
        "\n",
        "custom_densenet121_model = Sequential([\n",
        "        base_densenet121_model,\n",
        "        GlobalAveragePooling2D(),\n",
        "                                                   \n",
        "        Dense(512,activation='relu'),\n",
        "        Dropout(0.2),\n",
        "        Dense(num_classes , activation=\"softmax\")\n",
        "        ], name = \"custom_densenet121_model\")\n",
        "\n",
        "custom_densenet121_model.summary()"
      ]
    },
    {
      "cell_type": "code",
      "execution_count": null,
      "metadata": {
        "id": "Bmz4-pienm_z"
      },
      "outputs": [],
      "source": [
        "custom_densenet121_model.compile(optimizer=Adam(learning_rate=0.001*3),\n",
        "              loss=tf.keras.losses.SparseCategoricalCrossentropy(from_logits=False),\n",
        "                         metrics=['accuracy']\n",
        "                         )"
      ]
    },
    {
      "cell_type": "code",
      "execution_count": null,
      "metadata": {
        "id": "eVH04sGyn0ow"
      },
      "outputs": [],
      "source": [
        "early = EarlyStopping(monitor=\"val_loss\", \n",
        "                      patience=math.floor(epochs*0.1))\n",
        "\n",
        "learning_rate_reduction = ReduceLROnPlateau(monitor=\"val_loss\",\n",
        "                                            patience=2, \n",
        "                                            verbose=1, \n",
        "                                            factor=0.3,\n",
        "                                            min_lr=0.000001)\n",
        "# saves the model in the current directory as the best validation accuracy is achieved.\n",
        "modelcheck = ModelCheckpoint('best_model(DenseNet121).hdf5', monitor='val_accuracy',verbose=1,save_best_only=True,mode='max')"
      ]
    },
    {
      "cell_type": "code",
      "execution_count": null,
      "metadata": {
        "id": "o3qaJ0cIoHsG"
      },
      "outputs": [],
      "source": [
        "history = custom_densenet121_model.fit(\n",
        "  train_ds,\n",
        "  validation_data=val_ds,\n",
        "  epochs=epochs,\n",
        "  callbacks=[modelcheck, learning_rate_reduction, early],\n",
        "  verbose=1\n",
        ")"
      ]
    },
    {
      "cell_type": "code",
      "execution_count": null,
      "metadata": {
        "id": "Jg1QV94RoVUX"
      },
      "outputs": [],
      "source": []
    }
  ],
  "metadata": {
    "colab": {
      "provenance": [],
      "gpuType": "T4",
      "authorship_tag": "ABX9TyMrDFxJkd38a/IajLgova26",
      "include_colab_link": true
    },
    "kernelspec": {
      "display_name": "Python 3",
      "name": "python3"
    },
    "language_info": {
      "name": "python"
    }
  },
  "nbformat": 4,
  "nbformat_minor": 0
}